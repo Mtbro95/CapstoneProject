{
    "cells": [
        {
            "cell_type": "markdown",
            "metadata": {
                "collapsed": true
            },
            "source": "Battle of the Neighborhoods"
        },
        {
            "cell_type": "markdown",
            "metadata": {},
            "source": "Business Problem: With the reopening of many areas after the initial outbreak of COVID-19, many restaurants have closed down, leaving open spaces for those who would like to open their own restaurants. One such company wants to open a very high end restaurant in the Toronto area, but wants to utilize data to ensure that they choose an area with fewer restaurants to compete with and a large amount of higher income families. By utilizing FourSquare I plan to aid this company in choosing the perfect neighborhood for them to open a new high end restaurant in."
        }
    ],
    "metadata": {
        "kernelspec": {
            "display_name": "Python 3.7",
            "language": "python",
            "name": "python3"
        },
        "language_info": {
            "codemirror_mode": {
                "name": "ipython",
                "version": 3
            },
            "file_extension": ".py",
            "mimetype": "text/x-python",
            "name": "python",
            "nbconvert_exporter": "python",
            "pygments_lexer": "ipython3",
            "version": "3.7.10"
        }
    },
    "nbformat": 4,
    "nbformat_minor": 1
}
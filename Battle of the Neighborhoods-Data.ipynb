{
    "cells": [
        {
            "cell_type": "markdown",
            "metadata": {
                "collapsed": true
            },
            "source": "Battle of the Neighborhoods"
        },
        {
            "cell_type": "markdown",
            "metadata": {},
            "source": "Business Problem: With the reopening of many areas after the initial outbreak of COVID-19, many restaurants have closed down, leaving open spaces for those who would like to open their own restaurants. One such company wants to open a very high end restaurant in the Toronto area, but wants to utilize data to ensure that they choose an area with fewer restaurants to compete with and a large amount of higher income families. By utilizing FourSquare I plan to aid this company in choosing the perfect neighborhood for them to open a new high end restaurant in."
        },
        {
            "cell_type": "markdown",
            "metadata": {},
            "source": "Data: \n\nToronto neighborhoods by postal code: https://en.wikipedia.org/wiki/List_of_postal_codes_of_Canada:_M\n\nToronto neighborhoods average tax income by postal code: https://www12.statcan.gc.ca/census-recensement/2016/dp-pd/prof/search-recherche/change-geo.cfm?Lang=E&Geo1=FSA\n\nToronto Restaurants by postal code: Foursquare and only extract Restaurants\n\n\nI will utilize all of the above data to create one set of data for clustering and maping to show the best neighborhood to open a high end restaurant."
        }
    ],
    "metadata": {
        "kernelspec": {
            "display_name": "Python 3.7",
            "language": "python",
            "name": "python3"
        },
        "language_info": {
            "codemirror_mode": {
                "name": "ipython",
                "version": 3
            },
            "file_extension": ".py",
            "mimetype": "text/x-python",
            "name": "python",
            "nbconvert_exporter": "python",
            "pygments_lexer": "ipython3",
            "version": "3.7.10"
        }
    },
    "nbformat": 4,
    "nbformat_minor": 1
}